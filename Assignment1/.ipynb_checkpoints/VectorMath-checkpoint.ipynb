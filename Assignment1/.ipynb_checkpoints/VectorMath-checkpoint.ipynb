{
 "cells": [
  {
   "cell_type": "markdown",
   "metadata": {},
   "source": [
    "**(1)** (1 points) Convert the following numbers from decimal to binary<br/>\n",
    "`217.75` = `0111` `1111`.`11` <br/>\n",
    "`-14.125` = `1000` `1110`.`001`"
   ]
  },
  {
   "cell_type": "markdown",
   "metadata": {},
   "source": [
    "**(2)** (1 points) Convert the following numbers from binary to decimal<br/>\n",
    "`11011.0011` $= 27 + 2^{-3} + 2^{-4} =$ `27.1875`<br/>\n",
    "`-0.0101` $= -(2^{-2} + 2^{-4}) =$ `-0.3125`\n"
   ]
  },
  {
   "cell_type": "markdown",
   "metadata": {},
   "source": [
    "**(3)** (2 points) Following the IEEE 754 standard for floating point numbers, represent the following\n",
    "binary real number as a single-precision floating point number (32-bits)<br/>\n",
    "`11011.0011` = `0` `10000011` `10110011000000000000000`"
   ]
  },
  {
   "cell_type": "markdown",
   "metadata": {},
   "source": [
    "**(4)** (6 points) Use the figure below to answer the following questions<br/>\n",
    "***a.*** Represent the vector a = AB in Cartesian representation<br/>\n",
    "$(2)i + (-2)j$"
   ]
  },
  {
   "cell_type": "markdown",
   "metadata": {},
   "source": [
    "***b.*** Compute the angle between AB and the positive x-axis<br/>\n",
    "`0.7853981633974484` $=\\frac{\\pi}{4} = 45^{\\circ}$"
   ]
  },
  {
   "cell_type": "markdown",
   "metadata": {},
   "source": [
    "***c.*** Compute the angle between BD and the positive x-axis<br/>\n",
    "`0.7853981633974484` $=\\frac{\\pi}{4} = 45^{\\circ}$"
   ]
  },
  {
   "cell_type": "markdown",
   "metadata": {},
   "source": [
    "***d.*** Compute the angle between AB and BD<br/>\n",
    "`1.5707963267948966` $=\\frac{\\pi}{2} = 90^{\\circ}$"
   ]
  },
  {
   "cell_type": "markdown",
   "metadata": {},
   "source": [
    "***e.*** Compute the cross product AB x BD in two different ways<br/>\n",
    "`AB.x * BD.y - AB.y * BD.x` =  `8`<br/>\n",
    "`DB.x * AB.y - DB.y * AB.x` =  `8`<br/>"
   ]
  },
  {
   "cell_type": "markdown",
   "metadata": {},
   "source": [
    "***f.*** Compute the dot product AB ∙ BD in two different ways<br/>\n",
    "`AB.x * BD.x + AB.y * BD.y` = `0`<br/>\n",
    "$||AB|| \\times ||BD|| \\times cos(90^{\\circ}) = 0$ "
   ]
  },
  {
   "cell_type": "markdown",
   "metadata": {},
   "source": [
    "***g.*** Compute the coordinates of the intersection of the two line segments 𝐵𝐷´ and 𝐴𝐶´<br/>\n",
    "$( 1.333333 , 3.333333 ) \\approx (\\frac{4}{3},\\frac{10}{3})$ "
   ]
  },
  {
   "cell_type": "code",
   "execution_count": null,
   "metadata": {},
   "outputs": [],
   "source": []
  }
 ],
 "metadata": {
  "kernelspec": {
   "display_name": "Python 3",
   "language": "python",
   "name": "python3"
  },
  "language_info": {
   "codemirror_mode": {
    "name": "ipython",
    "version": 3
   },
   "file_extension": ".py",
   "mimetype": "text/x-python",
   "name": "python",
   "nbconvert_exporter": "python",
   "pygments_lexer": "ipython3",
   "version": "3.7.1"
  }
 },
 "nbformat": 4,
 "nbformat_minor": 2
}
