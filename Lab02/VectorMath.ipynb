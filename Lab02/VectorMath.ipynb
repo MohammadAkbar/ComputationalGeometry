{
 "cells": [
  {
   "cell_type": "markdown",
   "metadata": {},
   "source": [
    "**LAB 02** \n",
    "<br/> *by Mohammad Akbar*<br/>\n",
    "`Cross Product` , `Dot Product` , `Collinear` , `Relate` , `Intersection` *2-D*"
   ]
  },
  {
   "cell_type": "markdown",
   "metadata": {},
   "source": [
    "### Point Class"
   ]
  },
  {
   "cell_type": "code",
   "execution_count": 6,
   "metadata": {},
   "outputs": [],
   "source": [
    "class Point:\n",
    "    # ------ Varaiables START ----------------------- #\n",
    "    x = 0.0\n",
    "    y = 0.0\n",
    "    # ------ Varaiables END ------------------------- #\n",
    "    # ------ Constructor START ---------------------- #\n",
    "    def __init__( self , x , y ):\n",
    "        self.x = x\n",
    "        self.y = y\n",
    "    # ------ Constructor END ------------------------ #\n",
    "    # ------ Print Functions START ------------------ #\n",
    "    def __repr__(self):\n",
    "        return \"( %f , %f )\" % (self.x, self.y)\n",
    "    def __str__(self):\n",
    "        return \"( %f , %f )\" % (self.x, self.y)\n",
    "    # ------ Print Functions END -------------------- #\n",
    "    def update(self , x , y):\n",
    "        self.x = x\n",
    "        self.y = y"
   ]
  },
  {
   "cell_type": "markdown",
   "metadata": {},
   "source": [
    "***\n",
    "### Vector Class"
   ]
  },
  {
   "cell_type": "code",
   "execution_count": 7,
   "metadata": {},
   "outputs": [],
   "source": [
    "import math\n",
    "class Vector:\n",
    "    # ------ Varaiables START ----------------------- #\n",
    "    x = 0.0\n",
    "    y = 0.0\n",
    "    # ------ Varaiables END ------------------------- #\n",
    "    # ------ Constructor START ---------------------- #\n",
    "    def __init__( self , x:float , y:float ):\n",
    "        self.x = x\n",
    "        self.y = y\n",
    "    # ------ Constructor END ------------------------ #\n",
    "    # ------ Print Functions START ------------------ #\n",
    "    def __repr__(self):\n",
    "        return \"< %f , %f >\" % (self.x, self.y)\n",
    "    def __str__(self):\n",
    "        return \"< %f , %f >\" % (self.x, self.y)\n",
    "    def magnitude(self):\n",
    "        return math.sqrt(self.x*self.x + self.y*self.y)\n",
    "    # ------ Print Functions END -------------------- #"
   ]
  },
  {
   "cell_type": "code",
   "execution_count": 8,
   "metadata": {},
   "outputs": [],
   "source": [
    "def PP2V(a: Point , b: Point):\n",
    "    return Vector(b.x-a.x,b.y-a.y)"
   ]
  },
  {
   "cell_type": "markdown",
   "metadata": {},
   "source": [
    "***\n",
    "### Graph Class"
   ]
  },
  {
   "cell_type": "code",
   "execution_count": null,
   "metadata": {},
   "outputs": [],
   "source": []
  },
  {
   "cell_type": "markdown",
   "metadata": {},
   "source": [
    "***\n",
    "### Cross Product"
   ]
  },
  {
   "cell_type": "code",
   "execution_count": 10,
   "metadata": {},
   "outputs": [],
   "source": [
    "def CrossProduct( a: Vector , b: Vector) -> float:\n",
    "    return a.x * b.y - a.y * b.x"
   ]
  },
  {
   "cell_type": "code",
   "execution_count": 11,
   "metadata": {},
   "outputs": [
    {
     "name": "stdout",
     "output_type": "stream",
     "text": [
      "5\n",
      "4\n",
      "-8\n"
     ]
    }
   ],
   "source": [
    "V1 , V2 = Vector(1,-1) , Vector(2,3)\n",
    "print( CrossProduct( V1 , V2 ) )\n",
    "\n",
    "V1 , V2 = Vector(2,0) , Vector(0,2)\n",
    "print( CrossProduct( V1 , V2 ) )\n",
    "\n",
    "V1 , V2 = Vector(1,3) , Vector(4,4)\n",
    "print( CrossProduct( V1 , V2 ) )"
   ]
  },
  {
   "cell_type": "markdown",
   "metadata": {},
   "source": [
    "***\n",
    "### Dot Product"
   ]
  },
  {
   "cell_type": "code",
   "execution_count": 12,
   "metadata": {},
   "outputs": [],
   "source": [
    "def DotProduct( a: Vector , b: Vector) -> float:\n",
    "    return a.x * b.x + a.y * b.y"
   ]
  },
  {
   "cell_type": "code",
   "execution_count": 13,
   "metadata": {},
   "outputs": [
    {
     "name": "stdout",
     "output_type": "stream",
     "text": [
      "-1\n",
      "0\n",
      "< 2.000000 , -2.000000 > < 2.000000 , 2.000000 >\n",
      "90.0\n"
     ]
    }
   ],
   "source": [
    "V1 , V2 = Vector(1,-1) , Vector(2,3)\n",
    "print( DotProduct( V1, V2 ) )\n",
    "\n",
    "V1 , V2 = Vector(2,0) , Vector(0,2)\n",
    "print( DotProduct( V1 , V2 ) )\n",
    "\n",
    "A , B , C , D , Origin , PosX= Point(0,2) , Point(2,0) , Point(5,1) , Point(4,2) , Point(0,0), Point(1,0) \n",
    "AB , BD , DB , PosXV = PP2V(A,B) , PP2V(B,D) , PP2V(D,B), PP2V(Origin,PosX)\n",
    "#print(PosXV)\n",
    "#print(BD)\n",
    "rad = math.acos(DotProduct( AB , BD ) / (AB.magnitude() * BD.magnitude()))\n",
    "deg = math.degrees(rad)\n",
    "print(AB,BD)\n",
    "print( deg )"
   ]
  },
  {
   "cell_type": "markdown",
   "metadata": {},
   "source": [
    "***\n",
    "### Collinear "
   ]
  },
  {
   "cell_type": "code",
   "execution_count": 86,
   "metadata": {},
   "outputs": [],
   "source": [
    "def IsCollinear( P1 : Point , P2 : Point , P3 : Point ) -> bool:\n",
    "    return (P3.y - P2.y)*(P2.x - P1.x) - (P2.y - P1.y)*(P3.x - P2.x) == 0.0"
   ]
  },
  {
   "cell_type": "code",
   "execution_count": 87,
   "metadata": {},
   "outputs": [
    {
     "name": "stdout",
     "output_type": "stream",
     "text": [
      "True\n",
      "False\n"
     ]
    }
   ],
   "source": [
    "P1 , P2 , P3 = Point(-5,7) , Point(-4,5) , Point(1,-5)\n",
    "print(IsCollinear( P1 , P2 , P3 ))\n",
    "\n",
    "P1 , P2 , P3 = Point(2,4) , Point(4,6) , Point(6,9)\n",
    "print(IsCollinear( P1 , P2 , P3 ))"
   ]
  },
  {
   "cell_type": "markdown",
   "metadata": {},
   "source": [
    "***\n",
    "### Relate"
   ]
  },
  {
   "cell_type": "code",
   "execution_count": 88,
   "metadata": {},
   "outputs": [],
   "source": [
    "def Relate( P1 : Point , P2 : Point , P3 : Point ):\n",
    "    print( (P3.y - P2.y)*(P2.x - P1.x) - (P2.y - P1.y)*(P3.x - P2.x) )"
   ]
  },
  {
   "cell_type": "code",
   "execution_count": 89,
   "metadata": {},
   "outputs": [
    {
     "name": "stdout",
     "output_type": "stream",
     "text": [
      "0\n",
      "2187\n",
      "-2\n"
     ]
    }
   ],
   "source": [
    "P1 , P2 , P3 = Point(-5,7) , Point(-4,5) , Point(1,-5)\n",
    "Relate(P1,P2,P3)\n",
    "\n",
    "P1 , P2 , P3 = Point(-30,10), Point(29,-15), Point(15,28)\n",
    "Relate(P1,P2,P3)\n",
    "\n",
    "P1 , P2 , P3 = Point(5,8), Point(3,5), Point(1,3)\n",
    "Relate(P1,P2,P3)"
   ]
  },
  {
   "cell_type": "markdown",
   "metadata": {},
   "source": [
    "***\n",
    "### Intersection"
   ]
  },
  {
   "cell_type": "code",
   "execution_count": 90,
   "metadata": {},
   "outputs": [
    {
     "name": "stdout",
     "output_type": "stream",
     "text": [
      "1\n",
      "2\n",
      "3\n",
      "( 1.333333 , 3.333333 )\n"
     ]
    }
   ],
   "source": [
    "def Intersection( P1 : Point , P2 : Point , P3 : Point , P4 : Point , P5 : Point ):\n",
    "    D  = (P2.x - P1.x)*(P3.y - P4.y) - (P1.y - P2.y)*(P4.x - P3.x)\n",
    "    Dx = (P1.y*P2.x - P1.x*P2.y)*(P3.y - P4.y) - (P1.y - P2.y)*(P3.y*P4.x - P3.x*P4.y)\n",
    "    Dy = (P2.x - P1.x)*(P3.y*P4.x - P3.x*P4.y) - (P1.y*P2.x - P1.x*P2.y)*(P4.x - P3.x)\n",
    "    if D == 0.0 and Dx != 0.0 and Dy != 0.0:\n",
    "        return 1\n",
    "    elif D == Dx == Dy == 0.0:\n",
    "        return 2\n",
    "    else:\n",
    "        P5.update( Dx/D , Dy/D)\n",
    "        return 3\n",
    "\n",
    "P1 , P2 , P3 , P4 , P5 = Point(2,4) , Point(4,8) , Point(1,7) , Point(3,11) , Point(0,0)\n",
    "print(Intersection(P1 , P2 , P3 , P4 , P5))\n",
    "\n",
    "P1 , P2 , P3 , P4 , P5 = Point(2,4) , Point(4,8) , Point(6,12) , Point(8,16) , Point(0,0)\n",
    "print(Intersection(P1 , P2 , P3 , P4 , P5))\n",
    "\n",
    "P1 , P2 , P3 , P4 , P5 = Point(1,1) , Point(-5,5) , Point(-9,3) , Point(-4,2) , Point(0,0)\n",
    "print(Intersection(B , D , A , C , P5))\n",
    "print(P5)"
   ]
  },
  {
   "cell_type": "code",
   "execution_count": null,
   "metadata": {},
   "outputs": [],
   "source": []
  }
 ],
 "metadata": {
  "kernelspec": {
   "display_name": "Python 3",
   "language": "python",
   "name": "python3"
  },
  "language_info": {
   "codemirror_mode": {
    "name": "ipython",
    "version": 3
   },
   "file_extension": ".py",
   "mimetype": "text/x-python",
   "name": "python",
   "nbconvert_exporter": "python",
   "pygments_lexer": "ipython3",
   "version": "3.7.1"
  }
 },
 "nbformat": 4,
 "nbformat_minor": 2
}
